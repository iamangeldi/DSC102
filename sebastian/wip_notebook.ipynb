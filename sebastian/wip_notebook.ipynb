{
 "cells": [
  {
   "cell_type": "markdown",
   "id": "285a4873-ff33-4ff1-b7d2-0032254484fe",
   "metadata": {},
   "source": [
    "## <font color='red'> INSTRUCTIONS </font>"
   ]
  },
  {
   "cell_type": "markdown",
   "id": "89957ed8-c2d1-4592-8821-88806390d1cc",
   "metadata": {},
   "source": [
    "<b> \n",
    "1. Write your code only in cells below the \"WRITE CODE BELOW\" title. Do not modify the code below the \"DO NOT MODIFY\" title. <br>\n",
    "2. The expected data types of the output answers for each question are given in the last cell through assertion statements. Your answers must match these expected output data types. Hint: Many of the answers need to be a Python dictionary. Consider methods like to_dict() to convert a Pandas Series to a dictionary. <br>\n",
    "3. The answers are then written to a JSON file named my_results_PA1.json. You can compare this with the provided expected output file \"expected_results_PA1.json\". <br>\n",
    "4. After you complete writing your code, click \"Kernel -> Restart Kernel and Run All Cells\" on the top toolbar. There should NOT be any syntax/runtime errors, otherwise points will be deducted. <br>\n",
    "5. For submitting your solution, first download your notebook by clicking \"File -> Download\". Rename the file as &ltTEAM_ID&gt.ipynb\" and upload to Canvas.</b>\n"
   ]
  },
  {
   "cell_type": "markdown",
   "id": "2e5f7e94-c5b1-494c-8aab-832242527a4e",
   "metadata": {},
   "source": [
    "## <font color='red'> DO NOT MODIFY </font>"
   ]
  },
  {
   "cell_type": "code",
   "execution_count": 1,
   "id": "76f3c8d7-690f-428b-982d-94265b4a7f02",
   "metadata": {},
   "outputs": [
    {
     "name": "stdout",
     "output_type": "stream",
     "text": [
      "None\n"
     ]
    }
   ],
   "source": [
    "import time\n",
    "import json\n",
    "import dask\n",
    "import dask.dataframe as dd\n",
    "import pandas as pd\n",
    "import ast\n",
    "import re\n",
    "from dask.distributed import Client\n",
    "import ctypes\n",
    "import numpy as np\n",
    "\n",
    "def trim_memory() -> int:\n",
    "    \"\"\"\n",
    "    helps to fix any memory leaks.\n",
    "    \"\"\"\n",
    "    libc = ctypes.CDLL(\"libc.so.6\")\n",
    "    return libc.malloc_trim(0)\n",
    "\n",
    "client = Client(\"127.0.0.1:8786\")\n",
    "client.run(trim_memory)\n",
    "client = client.restart()\n",
    "print(client)"
   ]
  },
  {
   "cell_type": "code",
   "execution_count": 2,
   "id": "eb6ac532-d64f-4659-9cc8-94481f48c366",
   "metadata": {},
   "outputs": [],
   "source": [
    "start = time.time()"
   ]
  },
  {
   "cell_type": "markdown",
   "id": "fa3b6eb9-e5d7-423a-a0bc-7b86e6db1ab4",
   "metadata": {},
   "source": [
    "## <font color='blue'> WRITE CODE BELOW </font>"
   ]
  },
  {
   "cell_type": "code",
   "execution_count": 3,
   "id": "cf416f4d-1782-4fa5-9b2b-b44aafd55934",
   "metadata": {},
   "outputs": [],
   "source": [
    "# Read user_reviews.csv\n",
    "user_reviews = dd.read_csv(\n",
    "    'user_reviews.csv',\n",
    "    blocksize='64MB',\n",
    "    usecols=['reviewerID', 'asin', 'reviewerName', 'helpful', 'reviewText', 'overall', 'summary', 'unixReviewTime', 'reviewTime'],\n",
    "    dtype={'reviewerID': 'object', 'asin': 'object'}\n",
    ")\n",
    "\n",
    "# Read products.csv\n",
    "products = dd.read_csv(\n",
    "    'products.csv',\n",
    "    blocksize='64MB',\n",
    "    usecols=['asin', 'salesRank', 'imUrl', 'categories', 'title', 'description', 'price', 'related', 'brand'],\n",
    "    dtype={'asin': 'object'}\n",
    ")\n",
    "\n",
    "# Persist DataFrames to avoid reloading costs\n",
    "user_reviews = user_reviews.persist()\n",
    "products = products.persist()\n",
    "\n",
    "# Q1: Percentage of missing values in user_reviews\n",
    "ans1 = (user_reviews.isnull().sum() / user_reviews.shape[0]).compute() * 100\n",
    "ans1 = ans1.round(2).to_dict()\n",
    "\n",
    "\n",
    "# Q2: Percentage of missing values in products\n",
    "ans2 = (products.isnull().sum() / products.shape[0]).compute() * 100\n",
    "ans2 = ans2.round(2).to_dict()\n",
    "\n",
    "\n",
    "# Q3: Pearson correlation between price and overall rating\n",
    "products['price'] = dd.to_numeric(products['price'], errors='coerce')\n",
    "user_reviews['overall'] = dd.to_numeric(user_reviews['overall'], errors='coerce')\n",
    "products = products.persist()\n",
    "user_reviews = user_reviews.persist()\n",
    "\n",
    "merged = user_reviews.merge(products[['asin', 'price']], on='asin', how='inner') \\\n",
    "                     .dropna(subset=['price', 'overall']) \\\n",
    "                     .persist()\n",
    "\n",
    "correlation_matrix = merged[['price', 'overall']].corr().compute()\n",
    "ans3 = float(correlation_matrix.loc['price', 'overall'])\n",
    "\n",
    "\n",
    "# Q4: Price statistics in products\n",
    "price_clean = products['price'].dropna().persist()\n",
    "\n",
    "# Compute summary stats\n",
    "price_stats = price_clean.describe().compute()\n",
    "\n",
    "# MEDIAN CALCUATION NEEDS IMPROVEMENT, CURRENTLY SOMEWHAT INACCURATE (could be the dropna above?)\n",
    "price_clean_pd = price_clean.compute()\n",
    "median_price = price_clean_pd.median()\n",
    "\n",
    "# Convert to plain float\n",
    "ans4 = {\n",
    "    'mean': float(price_stats['mean']),\n",
    "    'std': float(price_stats['std']),\n",
    "    'min': float(price_stats['min']),\n",
    "    'max': float(price_stats['max']),\n",
    "    'median': float(median_price)\n",
    "}\n",
    "\n",
    "# MOSTLY CORRECT, BUT HAS AN EXTRA COLUMN THAT IS EMPTY key '' with value 194914 under Beauty \n",
    "# Q5: Number of products per super-category (sorted descending)\n",
    "def extract_super_category(cat_string):\n",
    "    try:\n",
    "        categories_list = ast.literal_eval(cat_string)\n",
    "        if isinstance(categories_list, list) and len(categories_list) > 0:\n",
    "            return categories_list[0][0]\n",
    "    except Exception:\n",
    "        return None\n",
    "\n",
    "products['super_category'] = products['categories'].map(extract_super_category, meta=('super_category', str))\n",
    "super_category_counts = products['super_category'].dropna().value_counts().compute()\n",
    "# Sort by counts descending\n",
    "super_category_counts = super_category_counts.sort_values(ascending=False)\n",
    "ans5 = super_category_counts.to_dict()\n",
    "\n",
    "# Q6: TODO currently has placeholder value\n",
    "ans6 = 1 \n",
    "\n",
    "# Q7: TODO currently has placeholder value \n",
    "ans7 = 1 "
   ]
  },
  {
   "cell_type": "markdown",
   "id": "c7d92954-28b3-4ad0-b7de-d8b8f4816c80",
   "metadata": {},
   "source": [
    "## <font color='red'> DO NOT MODIFY </font>"
   ]
  },
  {
   "cell_type": "code",
   "execution_count": 4,
   "id": "c438177d-8c4d-4871-bbc6-bea2f0a004b3",
   "metadata": {},
   "outputs": [],
   "source": [
    "end = time.time()"
   ]
  },
  {
   "cell_type": "code",
   "execution_count": 5,
   "id": "0adca53b-b276-4297-8434-6c0e94810d72",
   "metadata": {},
   "outputs": [
    {
     "name": "stdout",
     "output_type": "stream",
     "text": [
      "execution time = 287.0076699256897s\n",
      "ANS1: {'reviewerID': 0.0, 'asin': 0.0, 'reviewerName': 3.29, 'helpful': 0.0, 'reviewText': 0.02, 'overall': 0.0, 'summary': 0.01, 'unixReviewTime': 0.0, 'reviewTime': 0.0}\n",
      "ANS2: {'asin': 0.0, 'salesRank': 26.02, 'imUrl': 1.8, 'categories': 0.8, 'title': 15.19, 'description': 41.72, 'price': 35.7, 'related': 29.04, 'brand': 81.69}\n",
      "ANS3: -0.012821317097412719\n",
      "ANS4: {'mean': 34.937356116908504, 'std': 71.2636924987751, 'median': 14.99, 'min': 0.0, 'max': 999.99}\n",
      "ANS5: {'Books': 2369910, 'Clothing, Shoes & Jewelry': 1435868, 'Sports & Outdoors': 529989, 'Electronics': 495476, 'CDs & Vinyl': 491713, 'Home & Kitchen': 436957, 'Cell Phones & Accessories': 346720, 'Toys & Games': 335487, 'Automotive': 331049, 'Digital Music': 270370, 'Tools & Home Improvement': 268469, 'Health & Personal Care': 262317, 'Beauty': 259170, '': 194914, 'Movies & TV': 194874, 'Grocery & Gourmet Food': 171751, 'Office Products': 134281, 'Arts, Crafts & Sewing': 117403, 'Pet Supplies': 110535, 'Patio, Lawn & Garden': 108851, 'Baby': 71316, 'Musical Instruments': 68462, 'Apps for Android': 61544, 'Video Games': 48864, 'Industrial & Scientific': 47196, 'Amazon Instant Video': 30647, 'Amazon Fashion': 24145, 'Software': 17718, 'Appliances': 11654, 'Baby Products': 10020, 'All Electronics': 7570, 'Christian': 7468, 'All Beauty': 6580, 'Kindle Store': 6208, 'Collectibles & Fine Art': 6112, 'International': 4978, 'Dance & Electronic': 4627, 'Computers': 4450, 'Miscellaneous': 4115, 'Home Improvement': 3944, 'Alternative Rock': 3861, 'Kitchen & Dining': 3751, 'Pop': 3525, 'Office & School Supplies': 3316, 'Rock': 2517, 'Classical': 2303, 'Jazz': 2258, 'Folk': 2008, 'Luxury Beauty': 1926, 'Buy a Kindle': 1895, 'R&B': 1702, 'MP3 Players & Accessories': 1672, 'Magazine Subscriptions': 1477, 'Country': 1437, 'Wine': 1237, 'Hard Rock & Metal': 914, 'Blues': 900, 'New Age': 669, 'Rap & Hip-Hop': 590, 'Gift Cards': 482, 'Camera & Photo': 462, 'Car Electronics': 408, 'GPS & Navigation': 361, 'Classic Rock': 315, \"Children's Music\": 311, 'Broadway & Vocalists': 285, 'Appstore for Android': 152, 'Furniture & D&#233;cor': 108, 'Davis': 59, 'Purchase Circles': 33, 'Sports Collectibles': 27, 'All Credit Cards': 21, 'Latin Music': 11, 'Entertainment': 6, 'Gift Cards Store': 5, 'Amazon Coins': 4, 'Microsoft': 4, 'Amazon Fire TV': 3, 'Publishers': 2, 'Gospel': 2, 'Celebrate your Birthday with Nickelodeon': 2, '#508510': 1, 'Collectible Coins': 1}\n",
      "ANS6: 1\n",
      "ANS7: 1\n"
     ]
    }
   ],
   "source": [
    "print(f\"execution time = {end-start}s\")\n",
    "\n",
    "## ADDED CODE, REMOVE LATER\n",
    "print(\"ANS1:\", ans1)\n",
    "print(\"ANS2:\", ans2)\n",
    "print(\"ANS3:\", ans3)\n",
    "print(\"ANS4:\", ans4)\n",
    "print(\"ANS5:\", ans5)\n",
    "print(\"ANS6:\", ans6)\n",
    "print(\"ANS7:\", ans7)"
   ]
  },
  {
   "cell_type": "code",
   "execution_count": 6,
   "id": "935be195-dcc9-4e97-911a-bae25e2a70f3",
   "metadata": {},
   "outputs": [],
   "source": [
    "# DO NOT MODIFY\n",
    "assert type(ans1) == dict, f\"answer to question 1 must be a dictionary like {{'reviewerID':0.2, ..}}, got type = {type(ans1)}\"\n",
    "assert type(ans2) == dict, f\"answer to question 2 must be a dictionary like {{'asin':0.2, ..}}, got type = {type(ans2)}\"\n",
    "assert type(ans3) == float, f\"answer to question 3 must be a float like 0.8, got type = {type(ans3)}\"\n",
    "assert type(ans4) == dict, f\"answer to question 4 must be a dictionary like {{'mean':0.4,'max':0.6,'median':0.6...}}, got type = {type(ans4)}\"\n",
    "assert type(ans5) == dict, f\"answer to question 5 must be a dictionary, got type = {type(ans5)}\"         \n",
    "assert ans6 == 0 or ans6==1, f\"answer to question 6 must be 0 or 1, got value = {ans6}\" \n",
    "assert ans7 == 0 or ans7==1, f\"answer to question 7 must be 0 or 1, got value = {ans7}\" \n",
    "\n",
    "ans_dict = {\n",
    "    \"q1\": ans1,\n",
    "    \"q2\": ans2,\n",
    "    \"q3\": ans3,\n",
    "    \"q4\": ans4,\n",
    "    \"q5\": ans5,\n",
    "    \"q6\": ans6,\n",
    "    \"q7\": ans7,\n",
    "    \"runtime\": end-start\n",
    "}\n",
    "with open('my_results_PA1.json', 'w') as outfile: json.dump(ans_dict, outfile)         "
   ]
  }
 ],
 "metadata": {
  "kernelspec": {
   "display_name": "Python 3 (ipykernel)",
   "language": "python",
   "name": "python3"
  },
  "language_info": {
   "codemirror_mode": {
    "name": "ipython",
    "version": 3
   },
   "file_extension": ".py",
   "mimetype": "text/x-python",
   "name": "python",
   "nbconvert_exporter": "python",
   "pygments_lexer": "ipython3",
   "version": "3.10.12"
  }
 },
 "nbformat": 4,
 "nbformat_minor": 5
}
